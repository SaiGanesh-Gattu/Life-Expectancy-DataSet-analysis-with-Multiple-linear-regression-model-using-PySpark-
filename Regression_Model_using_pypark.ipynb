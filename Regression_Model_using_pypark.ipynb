{
  "nbformat": 4,
  "nbformat_minor": 0,
  "metadata": {
    "colab": {
      "provenance": [],
      "authorship_tag": "ABX9TyO7IyNoRNy9O2Jg/Ex0+m8P"
    },
    "kernelspec": {
      "name": "python3",
      "display_name": "Python 3"
    },
    "language_info": {
      "name": "python"
    }
  },
  "cells": [
    {
      "cell_type": "code",
      "source": [
        "pip install pyspark"
      ],
      "metadata": {
        "colab": {
          "base_uri": "https://localhost:8080/"
        },
        "id": "TkUyaPXZju2B",
        "outputId": "72ad3fc7-ad5d-42cd-d3eb-6bb8c900f7f1"
      },
      "execution_count": null,
      "outputs": [
        {
          "output_type": "stream",
          "name": "stdout",
          "text": [
            "Collecting pyspark\n",
            "  Downloading pyspark-3.5.1.tar.gz (317.0 MB)\n",
            "\u001b[2K     \u001b[90m━━━━━━━━━━━━━━━━━━━━━━━━━━━━━━━━━━━━━━━━\u001b[0m \u001b[32m317.0/317.0 MB\u001b[0m \u001b[31m2.5 MB/s\u001b[0m eta \u001b[36m0:00:00\u001b[0m\n",
            "\u001b[?25h  Preparing metadata (setup.py) ... \u001b[?25l\u001b[?25hdone\n",
            "Requirement already satisfied: py4j==0.10.9.7 in /usr/local/lib/python3.10/dist-packages (from pyspark) (0.10.9.7)\n",
            "Building wheels for collected packages: pyspark\n",
            "  Building wheel for pyspark (setup.py) ... \u001b[?25l\u001b[?25hdone\n",
            "  Created wheel for pyspark: filename=pyspark-3.5.1-py2.py3-none-any.whl size=317488491 sha256=4aaa768e417ba2ac0e7bbe99c97a22cff802bc569a4ac3fc029a949b3abafb88\n",
            "  Stored in directory: /root/.cache/pip/wheels/80/1d/60/2c256ed38dddce2fdd93be545214a63e02fbd8d74fb0b7f3a6\n",
            "Successfully built pyspark\n",
            "Installing collected packages: pyspark\n",
            "Successfully installed pyspark-3.5.1\n"
          ]
        }
      ]
    },
    {
      "cell_type": "code",
      "source": [
        "import pyspark\n",
        "from pyspark.sql import SparkSession"
      ],
      "metadata": {
        "id": "pxOTyQIfE--7"
      },
      "execution_count": null,
      "outputs": []
    },
    {
      "cell_type": "code",
      "source": [
        "spark=SparkSession.builder.appName(\"Life Expectany \").getOrCreate()"
      ],
      "metadata": {
        "id": "dQYGhu_yFbqo"
      },
      "execution_count": null,
      "outputs": []
    },
    {
      "cell_type": "code",
      "source": [
        "df=spark.read.csv(\"/content/Life Expectancy Data.csv\",header=True,inferSchema=True)"
      ],
      "metadata": {
        "id": "fcX4yUeGFlhS"
      },
      "execution_count": null,
      "outputs": []
    },
    {
      "cell_type": "code",
      "source": [
        "df.show()"
      ],
      "metadata": {
        "id": "GZM1OzlHF_rz",
        "colab": {
          "base_uri": "https://localhost:8080/"
        },
        "outputId": "a2bd13be-cede-443a-a987-fef721f33ac0"
      },
      "execution_count": null,
      "outputs": [
        {
          "output_type": "stream",
          "name": "stdout",
          "text": [
            "+-----------+----+----------+----------------+---------------+-------------+-------+----------------------+-----------+--------+-----+------------------+-----+-----------------+-----------+---------+-----------+-----------+---------------------+-------------------+-------------------------------+---------+\n",
            "|    Country|Year|    Status|Life expectancy |Adult Mortality|infant deaths|Alcohol|percentage expenditure|Hepatitis B|Measles | BMI |under-five deaths |Polio|Total expenditure|Diphtheria | HIV/AIDS|        GDP| Population| thinness  1-19 years| thinness 5-9 years|Income composition of resources|Schooling|\n",
            "+-----------+----+----------+----------------+---------------+-------------+-------+----------------------+-----------+--------+-----+------------------+-----+-----------------+-----------+---------+-----------+-----------+---------------------+-------------------+-------------------------------+---------+\n",
            "|Afghanistan|2015|Developing|            65.0|            263|           62|   0.01|           71.27962362|         65|    1154| 19.1|                83|    6|             8.16|         65|      0.1|  584.25921|3.3736494E7|                 17.2|               17.3|                          0.479|     10.1|\n",
            "|Afghanistan|2014|Developing|            59.9|            271|           64|   0.01|           73.52358168|         62|     492| 18.6|                86|   58|             8.18|         62|      0.1| 612.696514|   327582.0|                 17.5|               17.5|                          0.476|     10.0|\n",
            "|Afghanistan|2013|Developing|            59.9|            268|           66|   0.01|           73.21924272|         64|     430| 18.1|                89|   62|             8.13|         64|      0.1| 631.744976|3.1731688E7|                 17.7|               17.7|                           0.47|      9.9|\n",
            "|Afghanistan|2012|Developing|            59.5|            272|           69|   0.01|            78.1842153|         67|    2787| 17.6|                93|   67|             8.52|         67|      0.1|    669.959|  3696958.0|                 17.9|               18.0|                          0.463|      9.8|\n",
            "|Afghanistan|2011|Developing|            59.2|            275|           71|   0.01|           7.097108703|         68|    3013| 17.2|                97|   68|             7.87|         68|      0.1|  63.537231|  2978599.0|                 18.2|               18.2|                          0.454|      9.5|\n",
            "|Afghanistan|2010|Developing|            58.8|            279|           74|   0.01|           79.67936736|         66|    1989| 16.7|               102|   66|              9.2|         66|      0.1|  553.32894|  2883167.0|                 18.4|               18.4|                          0.448|      9.2|\n",
            "|Afghanistan|2009|Developing|            58.6|            281|           77|   0.01|           56.76221682|         63|    2861| 16.2|               106|   63|             9.42|         63|      0.1|445.8932979|   284331.0|                 18.6|               18.7|                          0.434|      8.9|\n",
            "|Afghanistan|2008|Developing|            58.1|            287|           80|   0.03|           25.87392536|         64|    1599| 15.7|               110|   64|             8.33|         64|      0.1|373.3611163|  2729431.0|                 18.8|               18.9|                          0.433|      8.7|\n",
            "|Afghanistan|2007|Developing|            57.5|            295|           82|   0.02|           10.91015598|         63|    1141| 15.2|               113|   63|             6.73|         63|      0.1| 369.835796|2.6616792E7|                 19.0|               19.1|                          0.415|      8.4|\n",
            "|Afghanistan|2006|Developing|            57.3|            295|           84|   0.03|           17.17151751|         64|    1990| 14.7|               116|   58|             7.43|         58|      0.1|  272.56377|  2589345.0|                 19.2|               19.3|                          0.405|      8.1|\n",
            "|Afghanistan|2005|Developing|            57.3|            291|           85|   0.02|           1.388647732|         66|    1296| 14.2|               118|   58|              8.7|         58|      0.1| 25.2941299|   257798.0|                 19.3|               19.5|                          0.396|      7.9|\n",
            "|Afghanistan|2004|Developing|            57.0|            293|           87|   0.02|           15.29606643|         67|     466| 13.8|               120|    5|             8.79|          5|      0.1|219.1413528|2.4118979E7|                 19.5|               19.7|                          0.381|      6.8|\n",
            "|Afghanistan|2003|Developing|            56.7|            295|           87|   0.01|           11.08905273|         65|     798| 13.4|               122|   41|             8.82|         41|      0.1|198.7285436|  2364851.0|                 19.7|               19.9|                          0.373|      6.5|\n",
            "|Afghanistan|2002|Developing|            56.2|              3|           88|   0.01|           16.88735091|         64|    2486| 13.0|               122|   36|             7.76|         36|      0.1|  187.84595|2.1979923E7|                 19.9|                2.2|                          0.341|      6.2|\n",
            "|Afghanistan|2001|Developing|            55.3|            316|           88|   0.01|            10.5747282|         63|    8762| 12.6|               122|   35|              7.8|         33|      0.1|  117.49698|  2966463.0|                  2.1|                2.4|                           0.34|      5.9|\n",
            "|Afghanistan|2000|Developing|            54.8|            321|           88|   0.01|              10.42496|         62|    6532| 12.2|               122|   24|              8.2|         24|      0.1|     114.56|   293756.0|                  2.3|                2.5|                          0.338|      5.5|\n",
            "|    Albania|2015|Developing|            77.8|             74|            0|    4.6|           364.9752287|         99|       0| 58.0|                 0|   99|              6.0|         99|      0.1| 3954.22783|    28873.0|                  1.2|                1.3|                          0.762|     14.2|\n",
            "|    Albania|2014|Developing|            77.5|              8|            0|   4.51|           428.7490668|         98|       0| 57.2|                 1|   98|             5.88|         98|      0.1|4575.763787|   288914.0|                  1.2|                1.3|                          0.761|     14.2|\n",
            "|    Albania|2013|Developing|            77.2|             84|            0|   4.76|           430.8769785|         99|       0| 56.5|                 1|   99|             5.66|         99|      0.1| 4414.72314|   289592.0|                  1.3|                1.4|                          0.759|     14.2|\n",
            "|    Albania|2012|Developing|            76.9|             86|            0|   5.14|           412.4433563|         99|       9| 55.8|                 1|   99|             5.59|         99|      0.1| 4247.61438|     2941.0|                  1.3|                1.4|                          0.752|     14.2|\n",
            "+-----------+----+----------+----------------+---------------+-------------+-------+----------------------+-----------+--------+-----+------------------+-----+-----------------+-----------+---------+-----------+-----------+---------------------+-------------------+-------------------------------+---------+\n",
            "only showing top 20 rows\n",
            "\n"
          ]
        }
      ]
    },
    {
      "cell_type": "code",
      "source": [
        "df.count()"
      ],
      "metadata": {
        "id": "TZ34myqnGGPc",
        "colab": {
          "base_uri": "https://localhost:8080/"
        },
        "outputId": "1aad753d-d05e-4596-f878-55d48c5f18a2"
      },
      "execution_count": null,
      "outputs": [
        {
          "output_type": "execute_result",
          "data": {
            "text/plain": [
              "2938"
            ]
          },
          "metadata": {},
          "execution_count": 6
        }
      ]
    },
    {
      "cell_type": "code",
      "source": [
        "len(df.columns)"
      ],
      "metadata": {
        "id": "X28lU7h_GqCd",
        "colab": {
          "base_uri": "https://localhost:8080/"
        },
        "outputId": "3b9cc9ec-2581-438d-b225-f6e7e9d4287e"
      },
      "execution_count": null,
      "outputs": [
        {
          "output_type": "execute_result",
          "data": {
            "text/plain": [
              "22"
            ]
          },
          "metadata": {},
          "execution_count": 7
        }
      ]
    },
    {
      "cell_type": "code",
      "source": [
        "df.printSchema()"
      ],
      "metadata": {
        "id": "_LWApHyzGsYw",
        "colab": {
          "base_uri": "https://localhost:8080/"
        },
        "outputId": "7b137a26-f032-4d33-e4d1-6ebeb4ca7a7c"
      },
      "execution_count": null,
      "outputs": [
        {
          "output_type": "stream",
          "name": "stdout",
          "text": [
            "root\n",
            " |-- Country: string (nullable = true)\n",
            " |-- Year: integer (nullable = true)\n",
            " |-- Status: string (nullable = true)\n",
            " |-- Life expectancy : double (nullable = true)\n",
            " |-- Adult Mortality: integer (nullable = true)\n",
            " |-- infant deaths: integer (nullable = true)\n",
            " |-- Alcohol: double (nullable = true)\n",
            " |-- percentage expenditure: double (nullable = true)\n",
            " |-- Hepatitis B: integer (nullable = true)\n",
            " |-- Measles : integer (nullable = true)\n",
            " |--  BMI : double (nullable = true)\n",
            " |-- under-five deaths : integer (nullable = true)\n",
            " |-- Polio: integer (nullable = true)\n",
            " |-- Total expenditure: double (nullable = true)\n",
            " |-- Diphtheria : integer (nullable = true)\n",
            " |--  HIV/AIDS: double (nullable = true)\n",
            " |-- GDP: double (nullable = true)\n",
            " |-- Population: double (nullable = true)\n",
            " |--  thinness  1-19 years: double (nullable = true)\n",
            " |--  thinness 5-9 years: double (nullable = true)\n",
            " |-- Income composition of resources: double (nullable = true)\n",
            " |-- Schooling: double (nullable = true)\n",
            "\n"
          ]
        }
      ]
    },
    {
      "cell_type": "code",
      "source": [
        "df = df.dropna()"
      ],
      "metadata": {
        "id": "N8NZOYrFelyN"
      },
      "execution_count": null,
      "outputs": []
    },
    {
      "cell_type": "code",
      "source": [
        "df.describe().show()"
      ],
      "metadata": {
        "id": "1cJFMrsmHMGc",
        "colab": {
          "base_uri": "https://localhost:8080/"
        },
        "outputId": "a259590a-9770-489e-8458-1c4137ebdc6a"
      },
      "execution_count": null,
      "outputs": [
        {
          "output_type": "stream",
          "name": "stdout",
          "text": [
            "+-------+-----------+------------------+----------+-----------------+------------------+------------------+-----------------+----------------------+-----------------+------------------+-----------------+------------------+------------------+------------------+-----------------+------------------+------------------+--------------------+---------------------+-------------------+-------------------------------+------------------+\n",
            "|summary|    Country|              Year|    Status| Life expectancy |   Adult Mortality|     infant deaths|          Alcohol|percentage expenditure|      Hepatitis B|          Measles |             BMI |under-five deaths |             Polio| Total expenditure|      Diphtheria |          HIV/AIDS|               GDP|          Population| thinness  1-19 years| thinness 5-9 years|Income composition of resources|         Schooling|\n",
            "+-------+-----------+------------------+----------+-----------------+------------------+------------------+-----------------+----------------------+-----------------+------------------+-----------------+------------------+------------------+------------------+-----------------+------------------+------------------+--------------------+---------------------+-------------------+-------------------------------+------------------+\n",
            "|  count|       1649|              1649|      1649|             1649|              1649|              1649|             1649|                  1649|             1649|              1649|             1649|              1649|              1649|              1649|             1649|              1649|              1649|                1649|                 1649|               1649|                           1649|              1649|\n",
            "|   mean|       NULL|2007.8405093996362|      NULL|69.30230442692543| 168.2152819890843| 32.55306246209824|4.533195876288676|      698.973558049698|79.21770770163735|2224.4942389326866| 38.1286234081261| 44.22013341419042| 83.56458459672528| 5.955924802910845|  84.155245603396|1.9838690115221154| 5566.031886817592|1.4653625889484541E7|    4.850636749545183|  4.907762280169795|             0.6315512431776829|12.119890842935117|\n",
            "| stddev|       NULL| 4.087710534059055|      NULL|8.796834135238601|125.31041693156172|120.84719049638885|4.029188999208425|    1759.2293363477393|25.60466388103202|10085.802018707056|19.75424940421043|162.89799858781032|22.450557485191844|2.2993854200363937|21.57919284379662| 6.032359689186714|11475.900117274561|  7.04603934030564E7|    4.599228369708468|  4.653756745508691|            0.18308872643487184| 2.795387538952672|\n",
            "|    min|Afghanistan|              2000| Developed|             44.0|                 1|                 0|             0.01|                   0.0|                2|                 0|              2.0|                 0|                 3|              0.74|                2|               0.1|           1.68135|                34.0|                  0.1|                0.1|                            0.0|               4.2|\n",
            "|    max|   Zimbabwe|              2015|Developing|             89.0|               723|              1600|            17.87|            18961.3486|               99|            131441|             77.1|              2100|                99|             14.39|               99|              50.6|       119172.7418|       1.293859294E9|                 27.2|               28.2|                          0.936|              20.7|\n",
            "+-------+-----------+------------------+----------+-----------------+------------------+------------------+-----------------+----------------------+-----------------+------------------+-----------------+------------------+------------------+------------------+-----------------+------------------+------------------+--------------------+---------------------+-------------------+-------------------------------+------------------+\n",
            "\n"
          ]
        }
      ]
    },
    {
      "cell_type": "code",
      "source": [
        "df.head(5)"
      ],
      "metadata": {
        "id": "IAH57IyBHUQE",
        "colab": {
          "base_uri": "https://localhost:8080/"
        },
        "outputId": "4db558b1-b671-4b61-9784-372ed0b992e3"
      },
      "execution_count": null,
      "outputs": [
        {
          "output_type": "execute_result",
          "data": {
            "text/plain": [
              "[Row(Country='Afghanistan', Year=2015, Status='Developing', Life expectancy =65.0, Adult Mortality=263, infant deaths=62, Alcohol=0.01, percentage expenditure=71.27962362, Hepatitis B=65, Measles =1154,  BMI =19.1, under-five deaths =83, Polio=6, Total expenditure=8.16, Diphtheria =65,  HIV/AIDS=0.1, GDP=584.25921, Population=33736494.0,  thinness  1-19 years=17.2,  thinness 5-9 years=17.3, Income composition of resources=0.479, Schooling=10.1),\n",
              " Row(Country='Afghanistan', Year=2014, Status='Developing', Life expectancy =59.9, Adult Mortality=271, infant deaths=64, Alcohol=0.01, percentage expenditure=73.52358168, Hepatitis B=62, Measles =492,  BMI =18.6, under-five deaths =86, Polio=58, Total expenditure=8.18, Diphtheria =62,  HIV/AIDS=0.1, GDP=612.696514, Population=327582.0,  thinness  1-19 years=17.5,  thinness 5-9 years=17.5, Income composition of resources=0.476, Schooling=10.0),\n",
              " Row(Country='Afghanistan', Year=2013, Status='Developing', Life expectancy =59.9, Adult Mortality=268, infant deaths=66, Alcohol=0.01, percentage expenditure=73.21924272, Hepatitis B=64, Measles =430,  BMI =18.1, under-five deaths =89, Polio=62, Total expenditure=8.13, Diphtheria =64,  HIV/AIDS=0.1, GDP=631.744976, Population=31731688.0,  thinness  1-19 years=17.7,  thinness 5-9 years=17.7, Income composition of resources=0.47, Schooling=9.9),\n",
              " Row(Country='Afghanistan', Year=2012, Status='Developing', Life expectancy =59.5, Adult Mortality=272, infant deaths=69, Alcohol=0.01, percentage expenditure=78.1842153, Hepatitis B=67, Measles =2787,  BMI =17.6, under-five deaths =93, Polio=67, Total expenditure=8.52, Diphtheria =67,  HIV/AIDS=0.1, GDP=669.959, Population=3696958.0,  thinness  1-19 years=17.9,  thinness 5-9 years=18.0, Income composition of resources=0.463, Schooling=9.8),\n",
              " Row(Country='Afghanistan', Year=2011, Status='Developing', Life expectancy =59.2, Adult Mortality=275, infant deaths=71, Alcohol=0.01, percentage expenditure=7.097108703, Hepatitis B=68, Measles =3013,  BMI =17.2, under-five deaths =97, Polio=68, Total expenditure=7.87, Diphtheria =68,  HIV/AIDS=0.1, GDP=63.537231, Population=2978599.0,  thinness  1-19 years=18.2,  thinness 5-9 years=18.2, Income composition of resources=0.454, Schooling=9.5)]"
            ]
          },
          "metadata": {},
          "execution_count": 11
        }
      ]
    },
    {
      "cell_type": "code",
      "source": [
        "df.show()"
      ],
      "metadata": {
        "id": "GZ7-sWoxM5-9",
        "colab": {
          "base_uri": "https://localhost:8080/"
        },
        "outputId": "e9e8d0f3-c7e8-4669-ea91-dabe928a8cc9"
      },
      "execution_count": null,
      "outputs": [
        {
          "output_type": "stream",
          "name": "stdout",
          "text": [
            "+-----------+----+----------+----------------+---------------+-------------+-------+----------------------+-----------+--------+-----+------------------+-----+-----------------+-----------+---------+-----------+-----------+---------------------+-------------------+-------------------------------+---------+\n",
            "|    Country|Year|    Status|Life expectancy |Adult Mortality|infant deaths|Alcohol|percentage expenditure|Hepatitis B|Measles | BMI |under-five deaths |Polio|Total expenditure|Diphtheria | HIV/AIDS|        GDP| Population| thinness  1-19 years| thinness 5-9 years|Income composition of resources|Schooling|\n",
            "+-----------+----+----------+----------------+---------------+-------------+-------+----------------------+-----------+--------+-----+------------------+-----+-----------------+-----------+---------+-----------+-----------+---------------------+-------------------+-------------------------------+---------+\n",
            "|Afghanistan|2015|Developing|            65.0|            263|           62|   0.01|           71.27962362|         65|    1154| 19.1|                83|    6|             8.16|         65|      0.1|  584.25921|3.3736494E7|                 17.2|               17.3|                          0.479|     10.1|\n",
            "|Afghanistan|2014|Developing|            59.9|            271|           64|   0.01|           73.52358168|         62|     492| 18.6|                86|   58|             8.18|         62|      0.1| 612.696514|   327582.0|                 17.5|               17.5|                          0.476|     10.0|\n",
            "|Afghanistan|2013|Developing|            59.9|            268|           66|   0.01|           73.21924272|         64|     430| 18.1|                89|   62|             8.13|         64|      0.1| 631.744976|3.1731688E7|                 17.7|               17.7|                           0.47|      9.9|\n",
            "|Afghanistan|2012|Developing|            59.5|            272|           69|   0.01|            78.1842153|         67|    2787| 17.6|                93|   67|             8.52|         67|      0.1|    669.959|  3696958.0|                 17.9|               18.0|                          0.463|      9.8|\n",
            "|Afghanistan|2011|Developing|            59.2|            275|           71|   0.01|           7.097108703|         68|    3013| 17.2|                97|   68|             7.87|         68|      0.1|  63.537231|  2978599.0|                 18.2|               18.2|                          0.454|      9.5|\n",
            "|Afghanistan|2010|Developing|            58.8|            279|           74|   0.01|           79.67936736|         66|    1989| 16.7|               102|   66|              9.2|         66|      0.1|  553.32894|  2883167.0|                 18.4|               18.4|                          0.448|      9.2|\n",
            "|Afghanistan|2009|Developing|            58.6|            281|           77|   0.01|           56.76221682|         63|    2861| 16.2|               106|   63|             9.42|         63|      0.1|445.8932979|   284331.0|                 18.6|               18.7|                          0.434|      8.9|\n",
            "|Afghanistan|2008|Developing|            58.1|            287|           80|   0.03|           25.87392536|         64|    1599| 15.7|               110|   64|             8.33|         64|      0.1|373.3611163|  2729431.0|                 18.8|               18.9|                          0.433|      8.7|\n",
            "|Afghanistan|2007|Developing|            57.5|            295|           82|   0.02|           10.91015598|         63|    1141| 15.2|               113|   63|             6.73|         63|      0.1| 369.835796|2.6616792E7|                 19.0|               19.1|                          0.415|      8.4|\n",
            "|Afghanistan|2006|Developing|            57.3|            295|           84|   0.03|           17.17151751|         64|    1990| 14.7|               116|   58|             7.43|         58|      0.1|  272.56377|  2589345.0|                 19.2|               19.3|                          0.405|      8.1|\n",
            "|Afghanistan|2005|Developing|            57.3|            291|           85|   0.02|           1.388647732|         66|    1296| 14.2|               118|   58|              8.7|         58|      0.1| 25.2941299|   257798.0|                 19.3|               19.5|                          0.396|      7.9|\n",
            "|Afghanistan|2004|Developing|            57.0|            293|           87|   0.02|           15.29606643|         67|     466| 13.8|               120|    5|             8.79|          5|      0.1|219.1413528|2.4118979E7|                 19.5|               19.7|                          0.381|      6.8|\n",
            "|Afghanistan|2003|Developing|            56.7|            295|           87|   0.01|           11.08905273|         65|     798| 13.4|               122|   41|             8.82|         41|      0.1|198.7285436|  2364851.0|                 19.7|               19.9|                          0.373|      6.5|\n",
            "|Afghanistan|2002|Developing|            56.2|              3|           88|   0.01|           16.88735091|         64|    2486| 13.0|               122|   36|             7.76|         36|      0.1|  187.84595|2.1979923E7|                 19.9|                2.2|                          0.341|      6.2|\n",
            "|Afghanistan|2001|Developing|            55.3|            316|           88|   0.01|            10.5747282|         63|    8762| 12.6|               122|   35|              7.8|         33|      0.1|  117.49698|  2966463.0|                  2.1|                2.4|                           0.34|      5.9|\n",
            "|Afghanistan|2000|Developing|            54.8|            321|           88|   0.01|              10.42496|         62|    6532| 12.2|               122|   24|              8.2|         24|      0.1|     114.56|   293756.0|                  2.3|                2.5|                          0.338|      5.5|\n",
            "|    Albania|2015|Developing|            77.8|             74|            0|    4.6|           364.9752287|         99|       0| 58.0|                 0|   99|              6.0|         99|      0.1| 3954.22783|    28873.0|                  1.2|                1.3|                          0.762|     14.2|\n",
            "|    Albania|2014|Developing|            77.5|              8|            0|   4.51|           428.7490668|         98|       0| 57.2|                 1|   98|             5.88|         98|      0.1|4575.763787|   288914.0|                  1.2|                1.3|                          0.761|     14.2|\n",
            "|    Albania|2013|Developing|            77.2|             84|            0|   4.76|           430.8769785|         99|       0| 56.5|                 1|   99|             5.66|         99|      0.1| 4414.72314|   289592.0|                  1.3|                1.4|                          0.759|     14.2|\n",
            "|    Albania|2012|Developing|            76.9|             86|            0|   5.14|           412.4433563|         99|       9| 55.8|                 1|   99|             5.59|         99|      0.1| 4247.61438|     2941.0|                  1.3|                1.4|                          0.752|     14.2|\n",
            "+-----------+----+----------+----------------+---------------+-------------+-------+----------------------+-----------+--------+-----+------------------+-----+-----------------+-----------+---------+-----------+-----------+---------------------+-------------------+-------------------------------+---------+\n",
            "only showing top 20 rows\n",
            "\n"
          ]
        }
      ]
    },
    {
      "cell_type": "code",
      "source": [
        "from pyspark.ml.feature import StringIndexer"
      ],
      "metadata": {
        "id": "jMLjooExag4s"
      },
      "execution_count": null,
      "outputs": []
    },
    {
      "cell_type": "code",
      "source": [
        "indexer=StringIndexer(inputCols=[\"Country\",\"Status\"],outputCols=[\"CountryIndex\",\"StatusIndex\"])"
      ],
      "metadata": {
        "id": "u07gC1aaaorQ"
      },
      "execution_count": null,
      "outputs": []
    },
    {
      "cell_type": "code",
      "source": [
        "indexer"
      ],
      "metadata": {
        "id": "oJm4EpFMjmpO",
        "colab": {
          "base_uri": "https://localhost:8080/"
        },
        "outputId": "0ac615aa-14d9-4321-9589-6d984ac5783c"
      },
      "execution_count": null,
      "outputs": [
        {
          "output_type": "execute_result",
          "data": {
            "text/plain": [
              "StringIndexer_3b0c7e0cb118"
            ]
          },
          "metadata": {},
          "execution_count": 15
        }
      ]
    },
    {
      "cell_type": "code",
      "source": [
        "indexed=indexer.fit(df).transform(df)"
      ],
      "metadata": {
        "id": "UGGg8AJSboNG"
      },
      "execution_count": null,
      "outputs": []
    },
    {
      "cell_type": "code",
      "source": [
        "indexed.columns"
      ],
      "metadata": {
        "id": "372jkZ1ibskx",
        "colab": {
          "base_uri": "https://localhost:8080/"
        },
        "outputId": "f933229d-0cc2-4cba-90b5-b45416ca1716"
      },
      "execution_count": null,
      "outputs": [
        {
          "output_type": "execute_result",
          "data": {
            "text/plain": [
              "['Country',\n",
              " 'Year',\n",
              " 'Status',\n",
              " 'Life expectancy ',\n",
              " 'Adult Mortality',\n",
              " 'infant deaths',\n",
              " 'Alcohol',\n",
              " 'percentage expenditure',\n",
              " 'Hepatitis B',\n",
              " 'Measles ',\n",
              " ' BMI ',\n",
              " 'under-five deaths ',\n",
              " 'Polio',\n",
              " 'Total expenditure',\n",
              " 'Diphtheria ',\n",
              " ' HIV/AIDS',\n",
              " 'GDP',\n",
              " 'Population',\n",
              " ' thinness  1-19 years',\n",
              " ' thinness 5-9 years',\n",
              " 'Income composition of resources',\n",
              " 'Schooling',\n",
              " 'CountryIndex',\n",
              " 'StatusIndex']"
            ]
          },
          "metadata": {},
          "execution_count": 17
        }
      ]
    },
    {
      "cell_type": "code",
      "source": [
        "from pyspark.ml.linalg import Vector\n",
        "from pyspark.ml.feature import VectorAssembler"
      ],
      "metadata": {
        "id": "MUwor0uIQ8ME"
      },
      "execution_count": null,
      "outputs": []
    },
    {
      "cell_type": "code",
      "source": [
        "assembler =VectorAssembler(inputCols=['Year',\n",
        "                            'Adult Mortality',\n",
        "                            'infant deaths',\n",
        "                            'Alcohol',\n",
        "                            'percentage expenditure',\n",
        "                            'Hepatitis B',\n",
        "                            'Measles ',\n",
        "                            ' BMI ',\n",
        "                            'under-five deaths ',\n",
        "                            'Polio',\n",
        "                            'Total expenditure',\n",
        "                            'Diphtheria ',\n",
        "                            ' HIV/AIDS',\n",
        "                            'GDP',\n",
        "                            'Population',\n",
        "                            ' thinness  1-19 years',\n",
        "                            ' thinness 5-9 years',\n",
        "                            'Income composition of resources',\n",
        "                            'Schooling',\n",
        "                            'CountryIndex',\n",
        "                            'StatusIndex'],\n",
        "                           outputCol=\"features\")"
      ],
      "metadata": {
        "id": "ZMdMEEyQRe2r"
      },
      "execution_count": null,
      "outputs": []
    },
    {
      "cell_type": "code",
      "source": [
        "output=assembler.transform(indexed)"
      ],
      "metadata": {
        "id": "LZ0-ndJfSMGb"
      },
      "execution_count": null,
      "outputs": []
    },
    {
      "cell_type": "code",
      "source": [
        "output.columns"
      ],
      "metadata": {
        "id": "yWgYNhgjSWN4",
        "colab": {
          "base_uri": "https://localhost:8080/"
        },
        "outputId": "b16832e6-2acc-485d-eb1e-066005953452"
      },
      "execution_count": null,
      "outputs": [
        {
          "output_type": "execute_result",
          "data": {
            "text/plain": [
              "['Country',\n",
              " 'Year',\n",
              " 'Status',\n",
              " 'Life expectancy ',\n",
              " 'Adult Mortality',\n",
              " 'infant deaths',\n",
              " 'Alcohol',\n",
              " 'percentage expenditure',\n",
              " 'Hepatitis B',\n",
              " 'Measles ',\n",
              " ' BMI ',\n",
              " 'under-five deaths ',\n",
              " 'Polio',\n",
              " 'Total expenditure',\n",
              " 'Diphtheria ',\n",
              " ' HIV/AIDS',\n",
              " 'GDP',\n",
              " 'Population',\n",
              " ' thinness  1-19 years',\n",
              " ' thinness 5-9 years',\n",
              " 'Income composition of resources',\n",
              " 'Schooling',\n",
              " 'CountryIndex',\n",
              " 'StatusIndex',\n",
              " 'features']"
            ]
          },
          "metadata": {},
          "execution_count": 21
        }
      ]
    },
    {
      "cell_type": "code",
      "source": [
        "output.select(\"features\",\"Life expectancy \").show()"
      ],
      "metadata": {
        "id": "eN3pRMSzSaku",
        "colab": {
          "base_uri": "https://localhost:8080/"
        },
        "outputId": "e2e7aa96-198e-4374-a7d6-27ff6a0fc12b"
      },
      "execution_count": null,
      "outputs": [
        {
          "output_type": "stream",
          "name": "stdout",
          "text": [
            "+--------------------+----------------+\n",
            "|            features|Life expectancy |\n",
            "+--------------------+----------------+\n",
            "|[2015.0,263.0,62....|            65.0|\n",
            "|[2014.0,271.0,64....|            59.9|\n",
            "|[2013.0,268.0,66....|            59.9|\n",
            "|[2012.0,272.0,69....|            59.5|\n",
            "|[2011.0,275.0,71....|            59.2|\n",
            "|[2010.0,279.0,74....|            58.8|\n",
            "|[2009.0,281.0,77....|            58.6|\n",
            "|[2008.0,287.0,80....|            58.1|\n",
            "|[2007.0,295.0,82....|            57.5|\n",
            "|[2006.0,295.0,84....|            57.3|\n",
            "|[2005.0,291.0,85....|            57.3|\n",
            "|[2004.0,293.0,87....|            57.0|\n",
            "|[2003.0,295.0,87....|            56.7|\n",
            "|[2002.0,3.0,88.0,...|            56.2|\n",
            "|[2001.0,316.0,88....|            55.3|\n",
            "|[2000.0,321.0,88....|            54.8|\n",
            "|[2015.0,74.0,0.0,...|            77.8|\n",
            "|[2014.0,8.0,0.0,4...|            77.5|\n",
            "|[2013.0,84.0,0.0,...|            77.2|\n",
            "|[2012.0,86.0,0.0,...|            76.9|\n",
            "+--------------------+----------------+\n",
            "only showing top 20 rows\n",
            "\n"
          ]
        }
      ]
    },
    {
      "cell_type": "code",
      "source": [
        "\n",
        "final_data=output.select(\"features\",\"Life expectancy \")"
      ],
      "metadata": {
        "id": "fMfeVrMpSilA"
      },
      "execution_count": null,
      "outputs": []
    },
    {
      "cell_type": "code",
      "source": [
        "train_data,test_data=final_data.randomSplit([0.80,0.20])"
      ],
      "metadata": {
        "id": "pIsbMU5KSp4n"
      },
      "execution_count": null,
      "outputs": []
    },
    {
      "cell_type": "code",
      "source": [],
      "metadata": {
        "id": "7E4ogO7deiFk"
      },
      "execution_count": null,
      "outputs": []
    },
    {
      "cell_type": "code",
      "source": [
        "train_data.describe().show()"
      ],
      "metadata": {
        "id": "F3SY5kv2Sxmd",
        "colab": {
          "base_uri": "https://localhost:8080/"
        },
        "outputId": "7acfbd8b-061f-470e-9510-446d1048e112"
      },
      "execution_count": null,
      "outputs": [
        {
          "output_type": "stream",
          "name": "stdout",
          "text": [
            "+-------+-----------------+\n",
            "|summary| Life expectancy |\n",
            "+-------+-----------------+\n",
            "|  count|             1315|\n",
            "|   mean|69.36479087452483|\n",
            "| stddev|8.777994999322779|\n",
            "|    min|             44.3|\n",
            "|    max|             89.0|\n",
            "+-------+-----------------+\n",
            "\n"
          ]
        }
      ]
    },
    {
      "cell_type": "code",
      "source": [
        "test_data.describe().show()"
      ],
      "metadata": {
        "id": "e9CBLUHtS2Kw",
        "colab": {
          "base_uri": "https://localhost:8080/"
        },
        "outputId": "f979c962-a2ce-4766-b0ce-f48e3e0da2db"
      },
      "execution_count": null,
      "outputs": [
        {
          "output_type": "stream",
          "name": "stdout",
          "text": [
            "+-------+-----------------+\n",
            "|summary| Life expectancy |\n",
            "+-------+-----------------+\n",
            "|  count|              334|\n",
            "|   mean|69.05628742514972|\n",
            "| stddev|8.879585149185926|\n",
            "|    min|             44.0|\n",
            "|    max|             89.0|\n",
            "+-------+-----------------+\n",
            "\n"
          ]
        }
      ]
    },
    {
      "cell_type": "code",
      "source": [
        "from pyspark.ml.regression import LinearRegression"
      ],
      "metadata": {
        "id": "RakTGrX1S8Ls"
      },
      "execution_count": null,
      "outputs": []
    },
    {
      "cell_type": "code",
      "source": [
        "life_expectancy=LinearRegression(featuresCol=\"features\",labelCol=\"Life expectancy \")"
      ],
      "metadata": {
        "id": "KMOSpmDHTCLC"
      },
      "execution_count": null,
      "outputs": []
    },
    {
      "cell_type": "code",
      "source": [
        "trained_model=life_expectancy.fit(train_data)"
      ],
      "metadata": {
        "id": "g_W2Ad2OTQWA"
      },
      "execution_count": null,
      "outputs": []
    },
    {
      "cell_type": "code",
      "source": [
        "print(\"R2 Score on TrainData\")\n",
        "res=trained_model.evaluate(train_data)\n",
        "print(res.r2)"
      ],
      "metadata": {
        "id": "JSV0oUINTc-b",
        "colab": {
          "base_uri": "https://localhost:8080/"
        },
        "outputId": "a4546ac9-4e8a-4743-8001-95695504d32d"
      },
      "execution_count": null,
      "outputs": [
        {
          "output_type": "stream",
          "name": "stdout",
          "text": [
            "R2 Score on TrainData\n",
            "0.8370874099671259\n"
          ]
        }
      ]
    },
    {
      "cell_type": "code",
      "source": [
        "unlabeled_data=test_data.select(\"features\")"
      ],
      "metadata": {
        "id": "vPElBw-gTraC"
      },
      "execution_count": null,
      "outputs": []
    },
    {
      "cell_type": "code",
      "source": [
        "unlabeled_data.show()"
      ],
      "metadata": {
        "id": "U_OkVFXjfK2Q",
        "colab": {
          "base_uri": "https://localhost:8080/"
        },
        "outputId": "5c7e89d0-3046-44cd-f56a-31fbff8b9107"
      },
      "execution_count": null,
      "outputs": [
        {
          "output_type": "stream",
          "name": "stdout",
          "text": [
            "+--------------------+\n",
            "|            features|\n",
            "+--------------------+\n",
            "|[2000.0,7.0,0.0,9...|\n",
            "|[2000.0,13.0,3.0,...|\n",
            "|[2000.0,77.0,3.0,...|\n",
            "|[2000.0,86.0,2.0,...|\n",
            "|[2000.0,131.0,1.0...|\n",
            "|[2000.0,136.0,10....|\n",
            "|[2000.0,153.0,3.0...|\n",
            "|[2000.0,158.0,0.0...|\n",
            "|[2000.0,174.0,6.0...|\n",
            "|[2000.0,196.0,0.0...|\n",
            "|[2000.0,235.0,0.0...|\n",
            "|[2000.0,257.0,6.0...|\n",
            "|[2000.0,274.0,2.0...|\n",
            "|[2000.0,321.0,88....|\n",
            "|[2000.0,397.0,51....|\n",
            "|[2001.0,1.0,1.0,1...|\n",
            "|[2001.0,11.0,1.0,...|\n",
            "|[2001.0,13.0,3.0,...|\n",
            "|[2001.0,21.0,0.0,...|\n",
            "|[2001.0,21.0,0.0,...|\n",
            "+--------------------+\n",
            "only showing top 20 rows\n",
            "\n"
          ]
        }
      ]
    },
    {
      "cell_type": "code",
      "source": [
        "PredictionModel=trained_model.transform(unlabeled_data)"
      ],
      "metadata": {
        "id": "bManpJyafNZV"
      },
      "execution_count": null,
      "outputs": []
    },
    {
      "cell_type": "code",
      "source": [
        "PredictionModel.show()"
      ],
      "metadata": {
        "id": "cIBcLF6DfQpu",
        "colab": {
          "base_uri": "https://localhost:8080/"
        },
        "outputId": "b618072e-0e51-4597-e8c8-06280901b7b2"
      },
      "execution_count": null,
      "outputs": [
        {
          "output_type": "stream",
          "name": "stdout",
          "text": [
            "+--------------------+-----------------+\n",
            "|            features|       prediction|\n",
            "+--------------------+-----------------+\n",
            "|[2000.0,7.0,0.0,9...|77.83884988553027|\n",
            "|[2000.0,13.0,3.0,...|80.98536312640505|\n",
            "|[2000.0,77.0,3.0,...|78.05855544328458|\n",
            "|[2000.0,86.0,2.0,...|79.56641788828233|\n",
            "|[2000.0,131.0,1.0...|73.84138511669647|\n",
            "|[2000.0,136.0,10....|68.92950750487765|\n",
            "|[2000.0,153.0,3.0...|76.18136403879615|\n",
            "|[2000.0,158.0,0.0...|74.23679296421429|\n",
            "|[2000.0,174.0,6.0...|67.88743037955604|\n",
            "|[2000.0,196.0,0.0...|69.62560893558162|\n",
            "|[2000.0,235.0,0.0...|64.02093839506415|\n",
            "|[2000.0,257.0,6.0...|71.64566015277333|\n",
            "|[2000.0,274.0,2.0...|66.04964898207206|\n",
            "|[2000.0,321.0,88....|58.63716202807393|\n",
            "|[2000.0,397.0,51....|56.02147999733495|\n",
            "|[2001.0,1.0,1.0,1...| 85.2181935031596|\n",
            "|[2001.0,11.0,1.0,...|78.76710996881638|\n",
            "|[2001.0,13.0,3.0,...|80.92267059138175|\n",
            "|[2001.0,21.0,0.0,...|73.90443632595935|\n",
            "|[2001.0,21.0,0.0,...|77.97204923274492|\n",
            "+--------------------+-----------------+\n",
            "only showing top 20 rows\n",
            "\n"
          ]
        }
      ]
    },
    {
      "cell_type": "code",
      "source": [],
      "metadata": {
        "id": "gIQ5ncPVgeHh"
      },
      "execution_count": null,
      "outputs": []
    }
  ]
}